{
 "cells": [
  {
   "cell_type": "markdown",
   "metadata": {},
   "source": [
    "Topic Indexing - LSI using Gensim\n",
    "===\n",
    "\n",
    "This document implements Topic Indexing using a gensim implementation of Latent Semantic Indexing (LSI)"
   ]
  },
  {
   "cell_type": "markdown",
   "metadata": {},
   "source": [
    "Import Libraries\n",
    "---"
   ]
  },
  {
   "cell_type": "code",
   "execution_count": 126,
   "metadata": {},
   "outputs": [],
   "source": [
    "from gensim import corpora, models, similarities \n",
    "import os\n",
    "from six import iteritems"
   ]
  },
  {
   "cell_type": "markdown",
   "metadata": {},
   "source": [
    "Prepare corpus\n",
    "---"
   ]
  },
  {
   "cell_type": "code",
   "execution_count": 127,
   "metadata": {},
   "outputs": [
    {
     "name": "stdout",
     "output_type": "stream",
     "text": [
      "c:\\users\\avour\\Documents\\GitHub\\topic-indexing-lsa-gensim\\my_corpus.txt\n"
     ]
    }
   ],
   "source": [
    "directory_path = r\"c:\\users\\avour\\Documents\\GitHub\\topic-indexing-lsa-gensim\"\n",
    "corpus_name = \"my_corpus.txt\"\n",
    "corpus_path = os.path.join(directory_path, corpus_name)\n",
    "print(corpus_path)"
   ]
  },
  {
   "cell_type": "markdown",
   "metadata": {},
   "source": [
    "Generate Dataset\n",
    "---"
   ]
  },
  {
   "cell_type": "code",
   "execution_count": 128,
   "metadata": {},
   "outputs": [],
   "source": [
    "stop_list = set('for a of the and to is has they be are as from their in'.split())\n",
    "\n",
    "# Generate Dictionary\n",
    "with open(corpus_path, 'r') as file:\n",
    "    dictionary = corpora.Dictionary(line.lower().split() for line in file)\n",
    "\n",
    "    # remove stop words and words that appear only once\n",
    "    stop_ids = [dictionary.token2id[stopword] for stopword in stop_list\n",
    "        if stopword in dictionary.token2id]\n",
    "    once_ids = [tokenid for tokenid, docfreq in iteritems(dictionary.dfs) if docfreq==1]\n",
    "    dictionary.filter_tokens(stop_ids+once_ids)\n",
    "    dictionary.compactify()\n",
    "\n",
    "    \n",
    "# Corpus Streaming\n",
    "class MyCorpus(object):\n",
    "    def __iter__(self):\n",
    "        with open(corpus_path, 'r') as file:\n",
    "            for line in file:\n",
    "                # Assume there's one document per line, tokens separated by whitespace\n",
    "                yield dictionary.doc2bow(line.lower().split())\n",
    "\n",
    "corpus = MyCorpus()\n",
    "\n",
    "# Save corpus and dictionary\n",
    "corpora.MmCorpus.serialize('something.mm', corpus)\n",
    "dictionary.save('something.dict')"
   ]
  },
  {
   "cell_type": "markdown",
   "metadata": {},
   "source": [
    "Load Dataset\n",
    "---"
   ]
  },
  {
   "cell_type": "code",
   "execution_count": 129,
   "metadata": {},
   "outputs": [
    {
     "name": "stdout",
     "output_type": "stream",
     "text": [
      "Used saved dataset\n"
     ]
    }
   ],
   "source": [
    "# Corpus of documents represented as a stream of vectors\n",
    "if(os.path.exists('something.dict')):\n",
    "    corpus = corpora.MmCorpus('something.mm')\n",
    "    dictionary = corpora.Dictionary.load('something.dict')\n",
    "    print('Used saved dataset')\n",
    "else:\n",
    "    print('Please generate data set')"
   ]
  },
  {
   "cell_type": "markdown",
   "metadata": {},
   "source": [
    "Implement LSI\n",
    "---"
   ]
  },
  {
   "cell_type": "code",
   "execution_count": 130,
   "metadata": {},
   "outputs": [
    {
     "name": "stdout",
     "output_type": "stream",
     "text": [
      "LSI topics\n"
     ]
    },
    {
     "data": {
      "text/plain": [
       "[(0,\n",
       "  '0.482*\"which\" + 0.482*\"students\" + 0.328*\"program,\" + 0.216*\"studies\" + 0.207*\"different\" + 0.205*\"sv\" + 0.184*\"use\" + 0.182*\"can\" + 0.180*\"well\" + 0.180*\"by\"'),\n",
       " (1,\n",
       "  '0.458*\"machine\" + 0.420*\"learning\" + -0.302*\"students\" + -0.302*\"which\" + 0.283*\"been\" + 0.259*\"computer\" + 0.212*\"use\" + 0.197*\"programming\" + -0.188*\"program,\" + 0.149*\"educational\"')]"
      ]
     },
     "execution_count": 130,
     "metadata": {},
     "output_type": "execute_result"
    }
   ],
   "source": [
    "# Initialize tfidf model\n",
    "tfidf = models.TfidfModel(corpus)\n",
    "\n",
    "# Use tfidf model to transform vectors\n",
    "corpus_tfidf = tfidf[corpus]\n",
    "\n",
    "# Perform LSI tranformation\n",
    "lsi = models.LsiModel(corpus_tfidf, id2word=dictionary, num_topics=2) #Initialize an LSI transformation\n",
    "corpus_lsi = lsi[corpus_tfidf] # create a double wrapper over the original corpus: bow->tfidf->fold-in-lsi\n",
    "\n",
    "print('LSI topics')\n",
    "lsi.print_topics(2)"
   ]
  },
  {
   "cell_type": "code",
   "execution_count": 131,
   "metadata": {},
   "outputs": [
    {
     "name": "stdout",
     "output_type": "stream",
     "text": [
      "Corpus LSI\n",
      "1  Teaching computer programming has long been known to be a complex process.\n",
      "\n",
      "[(0, 0.22626029643702178), (1, 0.41505425844925586)]  Teaching computer programming has long been known to be a complex process.\n",
      "\n",
      "1  Software Visualization (SV) is the use of graphical and textual formalisms to describe the execution of computer programs.\n",
      "\n",
      "[(0, 0.25027660053480127), (1, 0.32718116265433173)]  Software Visualization (SV) is the use of graphical and textual formalisms to describe the execution of computer programs.\n",
      "\n",
      "1  The approach of using SV over a network as an educational tool raises futher issues as to how SV can be most appropriately included within a computer programming curriculum.\n",
      "\n",
      "[(0, 0.36000280527432399), (1, 0.38302786637597858)]  The approach of using SV over a network as an educational tool raises futher issues as to how SV can be most appropriately included within a computer programming curriculum.\n",
      "\n",
      "0  Some SV designers have claimed their product applies equally well from novice through to expert.\n",
      "\n",
      "[(0, 0.2821596624508439), (1, 0.22003522668466477)]  Some SV designers have claimed their product applies equally well from novice through to expert.\n",
      "\n",
      "0  Recent SV evaluation studies suggest important differences in the way novices and experts are able use SVs.\n",
      "\n",
      "[(0, 0.37630383510885246), (1, 0.23681236336691971)]  Recent SV evaluation studies suggest important differences in the way novices and experts are able use SVs.\n",
      "\n",
      "0  Our students are studying part time and are required to fit their studies around other commitments, which means they will tend to study at different times.\n",
      "\n",
      "[(0, 0.61574514122530521), (1, -0.23728393427964764)]  Our students are studying part time and are required to fit their studies around other commitments, which means they will tend to study at different times.\n",
      "\n",
      "1  Though many claims have been made by SV designers for the educational suitability of their product, little has been said as to the stage in the learning process when particular visualizations are most appropriate.\n",
      "\n",
      "[(0, 0.30069249679498933), (1, 0.51554966170124927)]  Though many claims have been made by SV designers for the educational suitability of their product, little has been said as to the stage in the learning process when particular visualizations are most appropriate.\n",
      "\n",
      "0  There is a wealth of evidence to suggest that the kind of knowledge structures and strategies used by expert and novice computer programmers differ qualitatively rather than quantitatively, and this affects how they are able to use different kinds of SV.\n",
      "\n",
      "[(0, 0.43240018500997285), (1, 0.33562472923302822)]  There is a wealth of evidence to suggest that the kind of knowledge structures and strategies used by expert and novice computer programmers differ qualitatively rather than quantitatively, and this affects how they are able to use different kinds of SV.\n",
      "\n",
      "0  Students therefore require systems which are easy to use, low cost, multiplatform, and accessible from anywhere in the world.\n",
      "\n",
      "[(0, 0.68128885353702029), (1, -0.42778774491220606)]  Students therefore require systems which are easy to use, low cost, multiplatform, and accessible from anywhere in the world.\n",
      "\n",
      "0  The exercise asks students to write a sorting program, called qsort, which uses the quick sort algorithm.\n",
      "\n",
      "[(0, 0.69824283671337461), (1, -0.42508249012469507)]  The exercise asks students to write a sorting program, called qsort, which uses the quick sort algorithm.\n",
      "\n",
      "0  SV is a method by which students and the tutor can communicate their understanding of a program, as well as solitary working.\n",
      "\n",
      "[(0, 0.71392436783071034), (1, -0.18059653380079244)]  SV is a method by which students and the tutor can communicate their understanding of a program, as well as solitary working.\n",
      "\n",
      "1  The field of Machine Learning is becoming more popular.\n",
      "\n",
      "[(0, 0.079243835388158435), (1, 0.62001511199483006)]  The field of Machine Learning is becoming more popular.\n",
      "\n",
      "1  Aritificial Intelligence and Machine Learning should be democratized.\n",
      "\n",
      "[(0, 0.079243835388158435), (1, 0.62001511199483006)]  Aritificial Intelligence and Machine Learning should be democratized.\n",
      "\n"
     ]
    }
   ],
   "source": [
    "print('Corpus LSI')\n",
    "with open(corpus_path, 'r') as file:\n",
    "    for i, line in enumerate(file):\n",
    "        topic_index = max(corpus_lsi[i], key=lambda item:abs(item[1]))[0]\n",
    "        print(topic_index, \" \" + line)\n",
    "        print(corpus_lsi[i], \" \" + line)"
   ]
  },
  {
   "cell_type": "code",
   "execution_count": 132,
   "metadata": {},
   "outputs": [],
   "source": [
    "#lsi.save('/model.lsi')\n",
    "#lsi = models.LsiModel.load('/model.lis')"
   ]
  },
  {
   "cell_type": "code",
   "execution_count": null,
   "metadata": {},
   "outputs": [],
   "source": []
  }
 ],
 "metadata": {
  "kernelspec": {
   "display_name": "Python 3",
   "language": "python",
   "name": "python3"
  },
  "language_info": {
   "codemirror_mode": {
    "name": "ipython",
    "version": 3
   },
   "file_extension": ".py",
   "mimetype": "text/x-python",
   "name": "python",
   "nbconvert_exporter": "python",
   "pygments_lexer": "ipython3",
   "version": "3.6.3"
  }
 },
 "nbformat": 4,
 "nbformat_minor": 2
}
