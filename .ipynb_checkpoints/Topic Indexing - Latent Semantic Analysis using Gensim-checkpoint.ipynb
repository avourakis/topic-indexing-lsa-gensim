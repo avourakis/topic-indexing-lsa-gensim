{
 "cells": [
  {
   "cell_type": "markdown",
   "metadata": {},
   "source": [
    "Topic Indexing - LSI using Gensim\n",
    "===\n",
    "\n",
    "This document implements Topic Indexing using a gensim implementation of Latent Semantic Indexing (LSI). It is meant for my own educational purposes"
   ]
  },
  {
   "cell_type": "markdown",
   "metadata": {},
   "source": [
    "Import Libraries\n",
    "---"
   ]
  },
  {
   "cell_type": "code",
   "execution_count": 16,
   "metadata": {},
   "outputs": [],
   "source": [
    "from gensim import corpora, models, similarities \n",
    "import os\n",
    "from six import iteritems"
   ]
  },
  {
   "cell_type": "markdown",
   "metadata": {},
   "source": [
    "Prepare corpus\n",
    "---"
   ]
  },
  {
   "cell_type": "code",
   "execution_count": 17,
   "metadata": {},
   "outputs": [
    {
     "name": "stdout",
     "output_type": "stream",
     "text": [
      "c:\\users\\avour\\Documents\\GitHub\\topic-indexing-lsa-gensim\\mycorpus.txt\n"
     ]
    }
   ],
   "source": [
    "directory_path = r\"c:\\users\\avour\\Documents\\GitHub\\topic-indexing-lsa-gensim\"\n",
    "corpus_name = r\"mycorpus.txt\"\n",
    "corpus_path = os.path.join(directory_path, corpus_name)\n",
    "print(corpus_path)"
   ]
  },
  {
   "cell_type": "markdown",
   "metadata": {},
   "source": [
    "Generate Dataset\n",
    "---"
   ]
  },
  {
   "cell_type": "code",
   "execution_count": 18,
   "metadata": {},
   "outputs": [],
   "source": [
    "stop_list = set('for a of the and to is has they be are as from their in'.split())\n",
    "\n",
    "# Generate Dictionary\n",
    "with open(corpus_path, 'r') as file:\n",
    "    dictionary = corpora.Dictionary(line.lower().split() for line in file)\n",
    "\n",
    "    # remove stop words and words that appear only once\n",
    "    stop_ids = [dictionary.token2id[stopword] for stopword in stop_list\n",
    "        if stopword in dictionary.token2id]\n",
    "    once_ids = [tokenid for tokenid, docfreq in iteritems(dictionary.dfs) if docfreq==1]\n",
    "    dictionary.filter_tokens(stop_ids+once_ids)\n",
    "    #dictionary.filter_tokens(stop_ids)\n",
    "    dictionary.compactify()\n",
    "\n",
    "    \n",
    "# Corpus Streaming\n",
    "class MyCorpus(object):\n",
    "    def __iter__(self):\n",
    "        with open(corpus_path, 'r') as file:\n",
    "            for line in file:\n",
    "                # Assume there's one document per line, tokens separated by whitespace\n",
    "                yield dictionary.doc2bow(line.lower().split())\n",
    "\n",
    "corpus = MyCorpus()\n",
    "\n",
    "\n",
    "# Save corpus and dictionary\n",
    "corpora.MmCorpus.serialize('something.mm', corpus)\n",
    "dictionary.save('something.dict')\n"
   ]
  },
  {
   "cell_type": "markdown",
   "metadata": {},
   "source": [
    "Load Dataset\n",
    "---"
   ]
  },
  {
   "cell_type": "code",
   "execution_count": 19,
   "metadata": {},
   "outputs": [
    {
     "name": "stdout",
     "output_type": "stream",
     "text": [
      "Used saved dataset\n"
     ]
    }
   ],
   "source": [
    "# Corpus of documents represented as a stream of vectors\n",
    "\n",
    "if(os.path.exists('something.dict')):\n",
    "    corpus = corpora.MmCorpus('something.mm')\n",
    "    dictionary = corpora.Dictionary.load('something.dict')\n",
    "    print('Used saved dataset')\n",
    "else:\n",
    "    print('Please generate data set')\n"
   ]
  },
  {
   "cell_type": "markdown",
   "metadata": {},
   "source": [
    "Implement LSI\n",
    "---"
   ]
  },
  {
   "cell_type": "code",
   "execution_count": 20,
   "metadata": {},
   "outputs": [
    {
     "name": "stdout",
     "output_type": "stream",
     "text": [
      "LSI topics: \n",
      "\n",
      "\n"
     ]
    }
   ],
   "source": [
    "# Initialize tfidf model\n",
    "tfidf = models.TfidfModel(corpus)\n",
    "\n",
    "# Use tfidf model to transform vectors\n",
    "corpus_tfidf = tfidf[corpus]\n",
    "\n",
    "# Perform LSI tranformation\n",
    "lsi = models.LsiModel(corpus_tfidf, id2word=dictionary, num_topics=2) #Initialize an LSI transformation\n",
    "corpus_lsi = lsi[corpus_tfidf] # create a double wrapper over the original corpus: bow->tfidf->fold-in-lsi\n",
    "\n",
    "lsi.save('model.lsi')\n",
    "lsi = models.LsiModel.load('model.lsi')\n",
    "\n",
    "# Print topics\n",
    "print('LSI topics: ')\n",
    "lsi.print_topics()\n",
    "print('\\n')"
   ]
  },
  {
   "cell_type": "markdown",
   "metadata": {},
   "source": [
    "Visualize Final Corpus\n",
    "---"
   ]
  },
  {
   "cell_type": "code",
   "execution_count": 21,
   "metadata": {},
   "outputs": [
    {
     "name": "stdout",
     "output_type": "stream",
     "text": [
      "Corpus LSI \n",
      "Topic :  1\n",
      "[(0, 0.066007833960899834), (1, 0.5200703306361858)]  # Human machine interface for lab abc computer applications\n",
      "\n",
      "Topic :  1\n",
      "[(0, 0.19667592859141947), (1, 0.76095631677000586)]  # A survey of user opinion of computer system response time\n",
      "\n",
      "Topic :  1\n",
      "[(0, 0.089926399724459483), (1, 0.72418606267525143)]  # The EPS user interface management system\n",
      "\n",
      "Topic :  1\n",
      "[(0, 0.075858476521777518), (1, 0.63205515860034345)]  # System and human system engineering testing of EPS\n",
      "\n",
      "Topic :  1\n",
      "[(0, 0.10150299184979705), (1, 0.57373084830029586)]  # Relation of user perceived response time to error measurement\n",
      "\n",
      "Topic :  0\n",
      "[(0, 0.70321089393783187), (1, -0.16115180214025332)]  # The generation of random binary unordered trees\n",
      "\n",
      "Topic :  0\n",
      "[(0, 0.87747876731198415), (1, -0.1675890686465884)]  # The intersection graph of paths in trees\n",
      "\n",
      "Topic :  0\n",
      "[(0, 0.90986246868185883), (1, -0.14086553628718412)]  # Graph minors IV Widths of trees and well quasi ordering\n",
      "\n",
      "Topic :  0\n",
      "[(0, 0.61658253505692784), (1, 0.053929075663897839)]  # Graph minors A survey\n",
      "\n",
      "\n",
      "\n"
     ]
    }
   ],
   "source": [
    "print('Corpus LSI ')\n",
    "with open(corpus_path, 'r') as file:\n",
    "    for i, line in enumerate(file):\n",
    "        topic_index = max(corpus_lsi[i], key=lambda item:abs(item[1]))[0]\n",
    "        print('Topic : ', topic_index)\n",
    "        print(corpus_lsi[i], \" # \" + line)\n",
    "       \n",
    "    print('\\n')"
   ]
  },
  {
   "cell_type": "code",
   "execution_count": null,
   "metadata": {},
   "outputs": [],
   "source": []
  }
 ],
 "metadata": {
  "kernelspec": {
   "display_name": "Python 3",
   "language": "python",
   "name": "python3"
  },
  "language_info": {
   "codemirror_mode": {
    "name": "ipython",
    "version": 3
   },
   "file_extension": ".py",
   "mimetype": "text/x-python",
   "name": "python",
   "nbconvert_exporter": "python",
   "pygments_lexer": "ipython3",
   "version": "3.6.3"
  }
 },
 "nbformat": 4,
 "nbformat_minor": 2
}
